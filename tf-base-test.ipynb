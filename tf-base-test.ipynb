{
 "cells": [
  {
   "cell_type": "code",
   "execution_count": 15,
   "metadata": {},
   "outputs": [],
   "source": [
    "from keras.layers import Dense, Conv2D, BatchNormalization, AveragePooling2D, Flatten\n",
    "from keras.models import Sequential"
   ]
  },
  {
   "cell_type": "code",
   "execution_count": 31,
   "metadata": {},
   "outputs": [
    {
     "name": "stdout",
     "output_type": "stream",
     "text": [
      "_________________________________________________________________\n",
      "Layer (type)                 Output Shape              Param #   \n",
      "=================================================================\n",
      "conv2d_128 (Conv2D)          (None, 128, 128, 64)      1792      \n",
      "_________________________________________________________________\n",
      "conv2d_129 (Conv2D)          (None, 64, 64, 64)        36928     \n",
      "_________________________________________________________________\n",
      "conv2d_130 (Conv2D)          (None, 64, 64, 32)        2048      \n",
      "_________________________________________________________________\n",
      "batch_normalization_50 (Batc (None, 64, 64, 32)        128       \n",
      "_________________________________________________________________\n",
      "average_pooling2d_33 (Averag (None, 32, 32, 32)        0         \n",
      "_________________________________________________________________\n",
      "conv2d_131 (Conv2D)          (None, 16, 16, 128)       36992     \n",
      "_________________________________________________________________\n",
      "conv2d_132 (Conv2D)          (None, 8, 8, 128)         147584    \n",
      "_________________________________________________________________\n",
      "conv2d_133 (Conv2D)          (None, 8, 8, 32)          4096      \n",
      "_________________________________________________________________\n",
      "batch_normalization_51 (Batc (None, 8, 8, 32)          128       \n",
      "_________________________________________________________________\n",
      "average_pooling2d_34 (Averag (None, 4, 4, 32)          0         \n",
      "_________________________________________________________________\n",
      "conv2d_134 (Conv2D)          (None, 2, 2, 256)         73984     \n",
      "_________________________________________________________________\n",
      "conv2d_135 (Conv2D)          (None, 1, 1, 256)         589824    \n",
      "_________________________________________________________________\n",
      "batch_normalization_52 (Batc (None, 1, 1, 256)         1024      \n",
      "_________________________________________________________________\n",
      "flatten_16 (Flatten)         (None, 256)               0         \n",
      "_________________________________________________________________\n",
      "dense_33 (Dense)             (None, 32)                8224      \n",
      "_________________________________________________________________\n",
      "dense_34 (Dense)             (None, 1)                 33        \n",
      "=================================================================\n",
      "Total params: 902,785\n",
      "Trainable params: 902,145\n",
      "Non-trainable params: 640\n",
      "_________________________________________________________________\n"
     ]
    }
   ],
   "source": [
    "model = Sequential()\n",
    "model.add(Conv2D(64, 3, strides=2, padding='same', activation='relu', input_shape=[256, 256, 3]))\n",
    "model.add(Conv2D(64, 3, strides=2, padding='same', activation='relu'))\n",
    "model.add(Conv2D(32, 1, strides=1, padding='same', activation='relu', use_bias=False))\n",
    "model.add(BatchNormalization())\n",
    "model.add(AveragePooling2D(padding='same'))\n",
    "\n",
    "model.add(Conv2D(128, 3, strides=2, padding='same', activation='relu'))\n",
    "model.add(Conv2D(128, 3, strides=2, padding='same', activation='relu'))\n",
    "model.add(Conv2D(32, 1, strides=1, padding='same', activation='relu', use_bias=False))\n",
    "model.add(BatchNormalization())\n",
    "model.add(AveragePooling2D(padding='same'))\n",
    "\n",
    "model.add(Conv2D(256, 3, strides=2, padding='same', activation='relu'))\n",
    "model.add(Conv2D(256, 3, strides=2, padding='same', activation='relu', use_bias=False))\n",
    "# model.add(Conv2D(512, 1, strides=1, padding='same', activation='relu', use_bias=False))\n",
    "model.add(BatchNormalization())\n",
    "\n",
    "model.add(Flatten())\n",
    "model.add(Dense(32, activation='relu'))\n",
    "model.add(Dense(1, activation='sigmoid'))\n",
    "\n",
    "model.summary()\n"
   ]
  },
  {
   "cell_type": "code",
   "execution_count": null,
   "metadata": {},
   "outputs": [],
   "source": []
  }
 ],
 "metadata": {
  "kernelspec": {
   "display_name": "Python 3",
   "language": "python",
   "name": "python3"
  },
  "language_info": {
   "codemirror_mode": {
    "name": "ipython",
    "version": 3
   },
   "file_extension": ".py",
   "mimetype": "text/x-python",
   "name": "python",
   "nbconvert_exporter": "python",
   "pygments_lexer": "ipython3",
   "version": "3.6.5"
  }
 },
 "nbformat": 4,
 "nbformat_minor": 2
}
